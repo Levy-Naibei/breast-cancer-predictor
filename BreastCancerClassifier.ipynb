{
 "cells": [
  {
   "cell_type": "code",
   "execution_count": 1,
   "metadata": {},
   "outputs": [],
   "source": [
    "# Description: This machine learning model detects breast cancer, based off of data, \n",
    "# thus, providing correct diagnosis of BC and classification of patients into malignant or benign groups\n",
    "\n",
    "# Created on Wed Nov 11 10:35:40 2020 by Levy Naibei"
   ]
  },
  {
   "cell_type": "code",
   "execution_count": 2,
   "metadata": {},
   "outputs": [],
   "source": [
    "# import libraries\n",
    "import numpy as np\n",
    "import pandas as pd\n",
    "import matplotlib.pyplot as plt\n",
    "from sklearn.preprocessing import LabelEncoder\n",
    "import seaborn as sns\n",
    "from sklearn.model_selection import train_test_split\n",
    "from sklearn.preprocessing import StandardScaler\n",
    "from sklearn.metrics import accuracy_score\n",
    "import pickle\n",
    "\n",
    "# import dataset on spyder\n",
    "df = pd.read_csv('breastcancer.csv')\n",
    "\n",
    "# df.head(10)"
   ]
  },
  {
   "cell_type": "code",
   "execution_count": 3,
   "metadata": {},
   "outputs": [],
   "source": [
    "# df.info()"
   ]
  },
  {
   "cell_type": "code",
   "execution_count": 4,
   "metadata": {},
   "outputs": [
    {
     "data": {
      "text/plain": [
       "(569, 33)"
      ]
     },
     "execution_count": 4,
     "metadata": {},
     "output_type": "execute_result"
    }
   ],
   "source": [
    "df.shape"
   ]
  },
  {
   "cell_type": "code",
   "execution_count": 5,
   "metadata": {},
   "outputs": [],
   "source": [
    "# inspect dataset for empty values from each column - NaN, na, NAN\n",
    "# find missing or null data points\n",
    "# df.isna().sum()"
   ]
  },
  {
   "cell_type": "code",
   "execution_count": 6,
   "metadata": {},
   "outputs": [],
   "source": [
    "# remove empty values\n",
    "df=df.dropna(axis=1)"
   ]
  },
  {
   "cell_type": "code",
   "execution_count": 7,
   "metadata": {},
   "outputs": [
    {
     "data": {
      "text/plain": [
       "(569, 32)"
      ]
     },
     "execution_count": 7,
     "metadata": {},
     "output_type": "execute_result"
    }
   ],
   "source": [
    "df.shape"
   ]
  },
  {
   "cell_type": "code",
   "execution_count": 8,
   "metadata": {},
   "outputs": [],
   "source": [
    "# df.head()"
   ]
  },
  {
   "cell_type": "code",
   "execution_count": 9,
   "metadata": {},
   "outputs": [
    {
     "data": {
      "text/plain": [
       "B    357\n",
       "M    212\n",
       "Name: diagnosis, dtype: int64"
      ]
     },
     "execution_count": 9,
     "metadata": {},
     "output_type": "execute_result"
    }
   ],
   "source": [
    "# count number of B's and M's\n",
    "df['diagnosis'].value_counts()"
   ]
  },
  {
   "cell_type": "code",
   "execution_count": 10,
   "metadata": {},
   "outputs": [],
   "source": [
    "# visualize B and M count\n",
    "# sns.countplot(df['diagnosis'], label='Sum')"
   ]
  },
  {
   "cell_type": "code",
   "execution_count": 11,
   "metadata": {},
   "outputs": [],
   "source": [
    "X = df.iloc[:, 2:31].values\n",
    "Y = df.iloc[:, 1].values"
   ]
  },
  {
   "cell_type": "code",
   "execution_count": 12,
   "metadata": {},
   "outputs": [],
   "source": [
    "# encode catagorical data values - diagnosis\n",
    "labelencoder_Y = LabelEncoder()\n",
    "Y_L = labelencoder_Y.fit_transform(Y)"
   ]
  },
  {
   "cell_type": "code",
   "execution_count": 13,
   "metadata": {},
   "outputs": [],
   "source": [
    "df[\"Diagnosis_encoded\"]=Y_L"
   ]
  },
  {
   "cell_type": "code",
   "execution_count": 14,
   "metadata": {},
   "outputs": [
    {
     "data": {
      "text/html": [
       "<div>\n",
       "<style scoped>\n",
       "    .dataframe tbody tr th:only-of-type {\n",
       "        vertical-align: middle;\n",
       "    }\n",
       "\n",
       "    .dataframe tbody tr th {\n",
       "        vertical-align: top;\n",
       "    }\n",
       "\n",
       "    .dataframe thead th {\n",
       "        text-align: right;\n",
       "    }\n",
       "</style>\n",
       "<table border=\"1\" class=\"dataframe\">\n",
       "  <thead>\n",
       "    <tr style=\"text-align: right;\">\n",
       "      <th></th>\n",
       "      <th>id</th>\n",
       "      <th>diagnosis</th>\n",
       "      <th>radius_mean</th>\n",
       "      <th>texture_mean</th>\n",
       "      <th>perimeter_mean</th>\n",
       "      <th>area_mean</th>\n",
       "      <th>smoothness_mean</th>\n",
       "      <th>compactness_mean</th>\n",
       "      <th>concavity_mean</th>\n",
       "      <th>concave points_mean</th>\n",
       "      <th>...</th>\n",
       "      <th>texture_worst</th>\n",
       "      <th>perimeter_worst</th>\n",
       "      <th>area_worst</th>\n",
       "      <th>smoothness_worst</th>\n",
       "      <th>compactness_worst</th>\n",
       "      <th>concavity_worst</th>\n",
       "      <th>concave points_worst</th>\n",
       "      <th>symmetry_worst</th>\n",
       "      <th>fractal_dimension_worst</th>\n",
       "      <th>Diagnosis_encoded</th>\n",
       "    </tr>\n",
       "  </thead>\n",
       "  <tbody>\n",
       "    <tr>\n",
       "      <th>301</th>\n",
       "      <td>892604</td>\n",
       "      <td>B</td>\n",
       "      <td>12.46</td>\n",
       "      <td>19.89</td>\n",
       "      <td>80.43</td>\n",
       "      <td>471.3</td>\n",
       "      <td>0.08451</td>\n",
       "      <td>0.10140</td>\n",
       "      <td>0.06830</td>\n",
       "      <td>0.03099</td>\n",
       "      <td>...</td>\n",
       "      <td>23.07</td>\n",
       "      <td>88.13</td>\n",
       "      <td>551.3</td>\n",
       "      <td>0.1050</td>\n",
       "      <td>0.21580</td>\n",
       "      <td>0.19040</td>\n",
       "      <td>0.07625</td>\n",
       "      <td>0.2685</td>\n",
       "      <td>0.07764</td>\n",
       "      <td>0</td>\n",
       "    </tr>\n",
       "    <tr>\n",
       "      <th>289</th>\n",
       "      <td>89143601</td>\n",
       "      <td>B</td>\n",
       "      <td>11.37</td>\n",
       "      <td>18.89</td>\n",
       "      <td>72.17</td>\n",
       "      <td>396.0</td>\n",
       "      <td>0.08713</td>\n",
       "      <td>0.05008</td>\n",
       "      <td>0.02399</td>\n",
       "      <td>0.02173</td>\n",
       "      <td>...</td>\n",
       "      <td>26.14</td>\n",
       "      <td>79.29</td>\n",
       "      <td>459.3</td>\n",
       "      <td>0.1118</td>\n",
       "      <td>0.09708</td>\n",
       "      <td>0.07529</td>\n",
       "      <td>0.06203</td>\n",
       "      <td>0.3267</td>\n",
       "      <td>0.06994</td>\n",
       "      <td>0</td>\n",
       "    </tr>\n",
       "    <tr>\n",
       "      <th>523</th>\n",
       "      <td>917896</td>\n",
       "      <td>B</td>\n",
       "      <td>13.71</td>\n",
       "      <td>18.68</td>\n",
       "      <td>88.73</td>\n",
       "      <td>571.0</td>\n",
       "      <td>0.09916</td>\n",
       "      <td>0.10700</td>\n",
       "      <td>0.05385</td>\n",
       "      <td>0.03783</td>\n",
       "      <td>...</td>\n",
       "      <td>25.63</td>\n",
       "      <td>99.43</td>\n",
       "      <td>701.9</td>\n",
       "      <td>0.1425</td>\n",
       "      <td>0.25660</td>\n",
       "      <td>0.19350</td>\n",
       "      <td>0.12840</td>\n",
       "      <td>0.2849</td>\n",
       "      <td>0.09031</td>\n",
       "      <td>0</td>\n",
       "    </tr>\n",
       "    <tr>\n",
       "      <th>351</th>\n",
       "      <td>899667</td>\n",
       "      <td>M</td>\n",
       "      <td>15.75</td>\n",
       "      <td>19.22</td>\n",
       "      <td>107.10</td>\n",
       "      <td>758.6</td>\n",
       "      <td>0.12430</td>\n",
       "      <td>0.23640</td>\n",
       "      <td>0.29140</td>\n",
       "      <td>0.12420</td>\n",
       "      <td>...</td>\n",
       "      <td>24.17</td>\n",
       "      <td>119.40</td>\n",
       "      <td>915.3</td>\n",
       "      <td>0.1550</td>\n",
       "      <td>0.50460</td>\n",
       "      <td>0.68720</td>\n",
       "      <td>0.21350</td>\n",
       "      <td>0.4245</td>\n",
       "      <td>0.10500</td>\n",
       "      <td>1</td>\n",
       "    </tr>\n",
       "    <tr>\n",
       "      <th>84</th>\n",
       "      <td>8612080</td>\n",
       "      <td>B</td>\n",
       "      <td>12.00</td>\n",
       "      <td>15.65</td>\n",
       "      <td>76.95</td>\n",
       "      <td>443.3</td>\n",
       "      <td>0.09723</td>\n",
       "      <td>0.07165</td>\n",
       "      <td>0.04151</td>\n",
       "      <td>0.01863</td>\n",
       "      <td>...</td>\n",
       "      <td>24.90</td>\n",
       "      <td>87.78</td>\n",
       "      <td>567.9</td>\n",
       "      <td>0.1377</td>\n",
       "      <td>0.20030</td>\n",
       "      <td>0.22670</td>\n",
       "      <td>0.07632</td>\n",
       "      <td>0.3379</td>\n",
       "      <td>0.07924</td>\n",
       "      <td>0</td>\n",
       "    </tr>\n",
       "    <tr>\n",
       "      <th>212</th>\n",
       "      <td>8810703</td>\n",
       "      <td>M</td>\n",
       "      <td>28.11</td>\n",
       "      <td>18.47</td>\n",
       "      <td>188.50</td>\n",
       "      <td>2499.0</td>\n",
       "      <td>0.11420</td>\n",
       "      <td>0.15160</td>\n",
       "      <td>0.32010</td>\n",
       "      <td>0.15950</td>\n",
       "      <td>...</td>\n",
       "      <td>18.47</td>\n",
       "      <td>188.50</td>\n",
       "      <td>2499.0</td>\n",
       "      <td>0.1142</td>\n",
       "      <td>0.15160</td>\n",
       "      <td>0.32010</td>\n",
       "      <td>0.15950</td>\n",
       "      <td>0.1648</td>\n",
       "      <td>0.05525</td>\n",
       "      <td>1</td>\n",
       "    </tr>\n",
       "    <tr>\n",
       "      <th>253</th>\n",
       "      <td>8860702</td>\n",
       "      <td>M</td>\n",
       "      <td>17.30</td>\n",
       "      <td>17.08</td>\n",
       "      <td>113.00</td>\n",
       "      <td>928.2</td>\n",
       "      <td>0.10080</td>\n",
       "      <td>0.10410</td>\n",
       "      <td>0.12660</td>\n",
       "      <td>0.08353</td>\n",
       "      <td>...</td>\n",
       "      <td>25.09</td>\n",
       "      <td>130.90</td>\n",
       "      <td>1222.0</td>\n",
       "      <td>0.1416</td>\n",
       "      <td>0.24050</td>\n",
       "      <td>0.33780</td>\n",
       "      <td>0.18570</td>\n",
       "      <td>0.3138</td>\n",
       "      <td>0.08113</td>\n",
       "      <td>1</td>\n",
       "    </tr>\n",
       "    <tr>\n",
       "      <th>265</th>\n",
       "      <td>88995002</td>\n",
       "      <td>M</td>\n",
       "      <td>20.73</td>\n",
       "      <td>31.12</td>\n",
       "      <td>135.70</td>\n",
       "      <td>1419.0</td>\n",
       "      <td>0.09469</td>\n",
       "      <td>0.11430</td>\n",
       "      <td>0.13670</td>\n",
       "      <td>0.08646</td>\n",
       "      <td>...</td>\n",
       "      <td>47.16</td>\n",
       "      <td>214.00</td>\n",
       "      <td>3432.0</td>\n",
       "      <td>0.1401</td>\n",
       "      <td>0.26440</td>\n",
       "      <td>0.34420</td>\n",
       "      <td>0.16590</td>\n",
       "      <td>0.2868</td>\n",
       "      <td>0.08218</td>\n",
       "      <td>1</td>\n",
       "    </tr>\n",
       "    <tr>\n",
       "      <th>19</th>\n",
       "      <td>8510426</td>\n",
       "      <td>B</td>\n",
       "      <td>13.54</td>\n",
       "      <td>14.36</td>\n",
       "      <td>87.46</td>\n",
       "      <td>566.3</td>\n",
       "      <td>0.09779</td>\n",
       "      <td>0.08129</td>\n",
       "      <td>0.06664</td>\n",
       "      <td>0.04781</td>\n",
       "      <td>...</td>\n",
       "      <td>19.26</td>\n",
       "      <td>99.70</td>\n",
       "      <td>711.2</td>\n",
       "      <td>0.1440</td>\n",
       "      <td>0.17730</td>\n",
       "      <td>0.23900</td>\n",
       "      <td>0.12880</td>\n",
       "      <td>0.2977</td>\n",
       "      <td>0.07259</td>\n",
       "      <td>0</td>\n",
       "    </tr>\n",
       "    <tr>\n",
       "      <th>31</th>\n",
       "      <td>853612</td>\n",
       "      <td>M</td>\n",
       "      <td>11.84</td>\n",
       "      <td>18.70</td>\n",
       "      <td>77.93</td>\n",
       "      <td>440.6</td>\n",
       "      <td>0.11090</td>\n",
       "      <td>0.15160</td>\n",
       "      <td>0.12180</td>\n",
       "      <td>0.05182</td>\n",
       "      <td>...</td>\n",
       "      <td>28.12</td>\n",
       "      <td>119.40</td>\n",
       "      <td>888.7</td>\n",
       "      <td>0.1637</td>\n",
       "      <td>0.57750</td>\n",
       "      <td>0.69560</td>\n",
       "      <td>0.15460</td>\n",
       "      <td>0.4761</td>\n",
       "      <td>0.14020</td>\n",
       "      <td>1</td>\n",
       "    </tr>\n",
       "  </tbody>\n",
       "</table>\n",
       "<p>10 rows × 33 columns</p>\n",
       "</div>"
      ],
      "text/plain": [
       "           id diagnosis  radius_mean  texture_mean  perimeter_mean  area_mean  \\\n",
       "301    892604         B        12.46         19.89           80.43      471.3   \n",
       "289  89143601         B        11.37         18.89           72.17      396.0   \n",
       "523    917896         B        13.71         18.68           88.73      571.0   \n",
       "351    899667         M        15.75         19.22          107.10      758.6   \n",
       "84    8612080         B        12.00         15.65           76.95      443.3   \n",
       "212   8810703         M        28.11         18.47          188.50     2499.0   \n",
       "253   8860702         M        17.30         17.08          113.00      928.2   \n",
       "265  88995002         M        20.73         31.12          135.70     1419.0   \n",
       "19    8510426         B        13.54         14.36           87.46      566.3   \n",
       "31     853612         M        11.84         18.70           77.93      440.6   \n",
       "\n",
       "     smoothness_mean  compactness_mean  concavity_mean  concave points_mean  \\\n",
       "301          0.08451           0.10140         0.06830              0.03099   \n",
       "289          0.08713           0.05008         0.02399              0.02173   \n",
       "523          0.09916           0.10700         0.05385              0.03783   \n",
       "351          0.12430           0.23640         0.29140              0.12420   \n",
       "84           0.09723           0.07165         0.04151              0.01863   \n",
       "212          0.11420           0.15160         0.32010              0.15950   \n",
       "253          0.10080           0.10410         0.12660              0.08353   \n",
       "265          0.09469           0.11430         0.13670              0.08646   \n",
       "19           0.09779           0.08129         0.06664              0.04781   \n",
       "31           0.11090           0.15160         0.12180              0.05182   \n",
       "\n",
       "     ...  texture_worst  perimeter_worst  area_worst  smoothness_worst  \\\n",
       "301  ...          23.07            88.13       551.3            0.1050   \n",
       "289  ...          26.14            79.29       459.3            0.1118   \n",
       "523  ...          25.63            99.43       701.9            0.1425   \n",
       "351  ...          24.17           119.40       915.3            0.1550   \n",
       "84   ...          24.90            87.78       567.9            0.1377   \n",
       "212  ...          18.47           188.50      2499.0            0.1142   \n",
       "253  ...          25.09           130.90      1222.0            0.1416   \n",
       "265  ...          47.16           214.00      3432.0            0.1401   \n",
       "19   ...          19.26            99.70       711.2            0.1440   \n",
       "31   ...          28.12           119.40       888.7            0.1637   \n",
       "\n",
       "     compactness_worst  concavity_worst  concave points_worst  symmetry_worst  \\\n",
       "301            0.21580          0.19040               0.07625          0.2685   \n",
       "289            0.09708          0.07529               0.06203          0.3267   \n",
       "523            0.25660          0.19350               0.12840          0.2849   \n",
       "351            0.50460          0.68720               0.21350          0.4245   \n",
       "84             0.20030          0.22670               0.07632          0.3379   \n",
       "212            0.15160          0.32010               0.15950          0.1648   \n",
       "253            0.24050          0.33780               0.18570          0.3138   \n",
       "265            0.26440          0.34420               0.16590          0.2868   \n",
       "19             0.17730          0.23900               0.12880          0.2977   \n",
       "31             0.57750          0.69560               0.15460          0.4761   \n",
       "\n",
       "     fractal_dimension_worst  Diagnosis_encoded  \n",
       "301                  0.07764                  0  \n",
       "289                  0.06994                  0  \n",
       "523                  0.09031                  0  \n",
       "351                  0.10500                  1  \n",
       "84                   0.07924                  0  \n",
       "212                  0.05525                  1  \n",
       "253                  0.08113                  1  \n",
       "265                  0.08218                  1  \n",
       "19                   0.07259                  0  \n",
       "31                   0.14020                  1  \n",
       "\n",
       "[10 rows x 33 columns]"
      ]
     },
     "execution_count": 14,
     "metadata": {},
     "output_type": "execute_result"
    }
   ],
   "source": [
    "df.sample(10)"
   ]
  },
  {
   "cell_type": "code",
   "execution_count": 15,
   "metadata": {},
   "outputs": [
    {
     "data": {
      "text/plain": [
       "array(['M', 'B'], dtype=object)"
      ]
     },
     "execution_count": 15,
     "metadata": {},
     "output_type": "execute_result"
    }
   ],
   "source": [
    "df.diagnosis.unique()"
   ]
  },
  {
   "cell_type": "code",
   "execution_count": 16,
   "metadata": {},
   "outputs": [],
   "source": [
    "# create a pairplot/scatterplot\n",
    "# sns.pairplot(df, hue='diagnosis')"
   ]
  },
  {
   "cell_type": "code",
   "execution_count": 17,
   "metadata": {},
   "outputs": [],
   "source": [
    "# df.info()"
   ]
  },
  {
   "cell_type": "code",
   "execution_count": 18,
   "metadata": {},
   "outputs": [],
   "source": [
    "# split dataset into training and test sets\n",
    "X_train, X_test, Y_train, Y_test = train_test_split(X, Y, test_size=0.2, random_state=0)"
   ]
  },
  {
   "cell_type": "code",
   "execution_count": 19,
   "metadata": {},
   "outputs": [
    {
     "data": {
      "text/plain": [
       "array([[-1.15036482, -0.39064196, -1.12855021, ..., -0.81232053,\n",
       "        -0.75798367, -0.01614761],\n",
       "       [-0.93798972,  0.68051405, -0.94820146, ..., -0.37504806,\n",
       "        -0.60687023,  0.09669004],\n",
       "       [ 0.574121  , -1.03333557,  0.51394098, ..., -0.18298917,\n",
       "        -0.02371948, -0.20050207],\n",
       "       ...,\n",
       "       [-1.32422924, -0.20048168, -1.31754581, ..., -0.76769066,\n",
       "        -0.97974953, -0.71542314],\n",
       "       [-1.24380987, -0.2245526 , -1.28007609, ..., -1.34136004,\n",
       "        -1.75401433, -1.58157125],\n",
       "       [-0.73694129,  1.14989702, -0.71226578, ...,  0.47893704,\n",
       "        -0.27460457, -1.25895095]])"
      ]
     },
     "execution_count": 19,
     "metadata": {},
     "output_type": "execute_result"
    }
   ],
   "source": [
    "# feature scaling\n",
    "sc= StandardScaler()\n",
    "X_train = sc.fit_transform(X_train)\n",
    "X_test = sc.fit_transform(X_test)\n",
    "\n",
    "X_train"
   ]
  },
  {
   "cell_type": "code",
   "execution_count": 20,
   "metadata": {},
   "outputs": [
    {
     "data": {
      "text/plain": [
       "97.37"
      ]
     },
     "execution_count": 20,
     "metadata": {},
     "output_type": "execute_result"
    }
   ],
   "source": [
    "# 2. Using RandomForestClassification to enable class to use Random Forest Classification Algorithm\n",
    "from sklearn.ensemble import RandomForestClassifier\n",
    "forest = RandomForestClassifier(n_estimators=10, criterion='entropy', random_state=0)\n",
    "forest.fit(X_train, Y_train)\n",
    "\n",
    "# percentage accuracy of the model\n",
    "Y_pred = forest.predict(X_test)\n",
    "forest_score = round(accuracy_score(Y_test, Y_pred) * 100, 2)\n",
    "forest_score"
   ]
  },
  {
   "cell_type": "code",
   "execution_count": 21,
   "metadata": {},
   "outputs": [],
   "source": [
    "# save the model\n",
    "pickle.dump(forest, open('bcmodel.pkl', 'wb'))"
   ]
  }
 ],
 "metadata": {
  "kernelspec": {
   "display_name": "Python 3",
   "language": "python",
   "name": "python3"
  },
  "language_info": {
   "codemirror_mode": {
    "name": "ipython",
    "version": 3
   },
   "file_extension": ".py",
   "mimetype": "text/x-python",
   "name": "python",
   "nbconvert_exporter": "python",
   "pygments_lexer": "ipython3",
   "version": "3.8.3"
  }
 },
 "nbformat": 4,
 "nbformat_minor": 4
}
